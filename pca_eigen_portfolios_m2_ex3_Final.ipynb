{
 "cells": [
  {
   "cell_type": "markdown",
   "metadata": {},
   "source": [
    "## Eigen-portfolio construction using Principal Component Analysis (PCA)\n",
    "\n",
    "### PCA via sklearn.decomposition using S&P 500 Index stock data\n",
    "\n",
    "Welcome to your 2-nd assignment in Unsupervised Machine Learning in Finance.\n",
    "\n",
    "In this assignment we look in-depth at model-free factor analysis using PCA. By model-free we mean that we do not rely on any factors such as value or momentum to decompose portfolio returns, but instead using Principal Component Analysis (PCA) to deduce structure of portfolio returns.\n",
    "\n",
    "We work with S&P 500 index stock data. "
   ]
  },
  {
   "cell_type": "markdown",
   "metadata": {},
   "source": [
    "## About iPython Notebooks ##\n",
    "\n",
    "iPython Notebooks are interactive coding environments embedded in a webpage. You will be using iPython notebooks in this class. You only need to write code between the ### START CODE HERE ### and ### END CODE HERE ### comments. After writing your code, you can run the cell by either pressing \"SHIFT\"+\"ENTER\" or by clicking on \"Run Cell\" (denoted by a play symbol) in the upper bar of the notebook. \n",
    "\n",
    "We will often specify \"(≈ X lines of code)\" in the comments to tell you about how much code you need to write. It is just a rough estimate, so don't feel bad if your code is longer or shorter."
   ]
  },
  {
   "cell_type": "code",
   "execution_count": 79,
   "metadata": {},
   "outputs": [
    {
     "name": "stdout",
     "output_type": "stream",
     "text": [
      "  pandas: 0.19.2\n"
     ]
    }
   ],
   "source": [
    "import os\n",
    "import os.path\n",
    "import numpy as np\n",
    "import datetime\n",
    "\n",
    "import sys\n",
    "sys.path.append(\"..\")\n",
    "import grading\n",
    "\n",
    "try:\n",
    "    import matplotlib.pyplot as plt\n",
    "    %matplotlib inline\n",
    "except:\n",
    "    pass\n",
    "\n",
    "try:\n",
    "    import pandas as pd\n",
    "    print(\"  pandas: %s\"% pd.__version__)\n",
    "except:\n",
    "    print(\"Missing pandas package\")"
   ]
  },
  {
   "cell_type": "code",
   "execution_count": 80,
   "metadata": {
    "collapsed": true
   },
   "outputs": [],
   "source": [
    "### ONLY FOR GRADING. DO NOT EDIT ### \n",
    "submissions=dict()\n",
    "assignment_key=\"BBz-XobeEeegARIApDSa9g\" \n",
    "all_parts=[\"nvDA9\", \"ykDlW\", \"rpYVm\",\"oWy6l\",\"MWWt7\",\"3VyJD\"]\n",
    "### ONLY FOR GRADING. DO NOT EDIT ###"
   ]
  },
  {
   "cell_type": "code",
   "execution_count": 81,
   "metadata": {
    "collapsed": true
   },
   "outputs": [],
   "source": [
    "COURSERA_TOKEN = \"mEOnPw6tshN1yWHi\"  # the key provided to the Student under his/her email on submission page\n",
    "COURSERA_EMAIL =  \"hclee333@me.com\"  # the email"
   ]
  },
  {
   "cell_type": "code",
   "execution_count": 82,
   "metadata": {},
   "outputs": [
    {
     "name": "stdout",
     "output_type": "stream",
     "text": [
      "Asset prices shape (3493, 419)\n"
     ]
    },
    {
     "data": {
      "text/html": [
       "<div>\n",
       "<table border=\"1\" class=\"dataframe\">\n",
       "  <thead>\n",
       "    <tr style=\"text-align: right;\">\n",
       "      <th></th>\n",
       "      <th>A</th>\n",
       "      <th>AA</th>\n",
       "      <th>AAPL</th>\n",
       "      <th>ABC</th>\n",
       "      <th>ABT</th>\n",
       "      <th>ADBE</th>\n",
       "      <th>ADI</th>\n",
       "      <th>ADM</th>\n",
       "      <th>ADP</th>\n",
       "      <th>ADSK</th>\n",
       "      <th>AEE</th>\n",
       "      <th>AEP</th>\n",
       "    </tr>\n",
       "  </thead>\n",
       "  <tbody>\n",
       "    <tr>\n",
       "      <th>2000-01-27</th>\n",
       "      <td>46.1112</td>\n",
       "      <td>78.9443</td>\n",
       "      <td>3.9286</td>\n",
       "      <td>4.5485</td>\n",
       "      <td>13.7898</td>\n",
       "      <td>15.6719</td>\n",
       "      <td>48.0313</td>\n",
       "      <td>10.8844</td>\n",
       "      <td>39.5477</td>\n",
       "      <td>8.1250</td>\n",
       "      <td>32.9375</td>\n",
       "      <td>33.5625</td>\n",
       "    </tr>\n",
       "    <tr>\n",
       "      <th>2000-01-28</th>\n",
       "      <td>45.8585</td>\n",
       "      <td>77.8245</td>\n",
       "      <td>3.6295</td>\n",
       "      <td>4.5485</td>\n",
       "      <td>14.2653</td>\n",
       "      <td>14.3906</td>\n",
       "      <td>47.7500</td>\n",
       "      <td>10.7143</td>\n",
       "      <td>38.5627</td>\n",
       "      <td>7.7188</td>\n",
       "      <td>32.3125</td>\n",
       "      <td>33.0000</td>\n",
       "    </tr>\n",
       "    <tr>\n",
       "      <th>2000-01-31</th>\n",
       "      <td>44.5952</td>\n",
       "      <td>78.0345</td>\n",
       "      <td>3.7054</td>\n",
       "      <td>4.3968</td>\n",
       "      <td>14.5730</td>\n",
       "      <td>13.7656</td>\n",
       "      <td>46.7500</td>\n",
       "      <td>10.6576</td>\n",
       "      <td>37.3807</td>\n",
       "      <td>7.6406</td>\n",
       "      <td>32.5625</td>\n",
       "      <td>33.5000</td>\n",
       "    </tr>\n",
       "    <tr>\n",
       "      <th>2000-02-01</th>\n",
       "      <td>47.8377</td>\n",
       "      <td>80.7640</td>\n",
       "      <td>3.5804</td>\n",
       "      <td>4.5333</td>\n",
       "      <td>14.7128</td>\n",
       "      <td>13.9688</td>\n",
       "      <td>49.0000</td>\n",
       "      <td>10.8844</td>\n",
       "      <td>37.9717</td>\n",
       "      <td>7.9219</td>\n",
       "      <td>32.5625</td>\n",
       "      <td>33.6875</td>\n",
       "    </tr>\n",
       "    <tr>\n",
       "      <th>2000-02-02</th>\n",
       "      <td>51.5434</td>\n",
       "      <td>83.4934</td>\n",
       "      <td>3.5290</td>\n",
       "      <td>4.5788</td>\n",
       "      <td>14.7968</td>\n",
       "      <td>15.3281</td>\n",
       "      <td>48.1250</td>\n",
       "      <td>10.6576</td>\n",
       "      <td>35.9032</td>\n",
       "      <td>7.9688</td>\n",
       "      <td>32.5625</td>\n",
       "      <td>33.6250</td>\n",
       "    </tr>\n",
       "  </tbody>\n",
       "</table>\n",
       "</div>"
      ],
      "text/plain": [
       "                  A       AA    AAPL     ABC      ABT     ADBE      ADI  \\\n",
       "2000-01-27  46.1112  78.9443  3.9286  4.5485  13.7898  15.6719  48.0313   \n",
       "2000-01-28  45.8585  77.8245  3.6295  4.5485  14.2653  14.3906  47.7500   \n",
       "2000-01-31  44.5952  78.0345  3.7054  4.3968  14.5730  13.7656  46.7500   \n",
       "2000-02-01  47.8377  80.7640  3.5804  4.5333  14.7128  13.9688  49.0000   \n",
       "2000-02-02  51.5434  83.4934  3.5290  4.5788  14.7968  15.3281  48.1250   \n",
       "\n",
       "                ADM      ADP    ADSK      AEE      AEP  \n",
       "2000-01-27  10.8844  39.5477  8.1250  32.9375  33.5625  \n",
       "2000-01-28  10.7143  38.5627  7.7188  32.3125  33.0000  \n",
       "2000-01-31  10.6576  37.3807  7.6406  32.5625  33.5000  \n",
       "2000-02-01  10.8844  37.9717  7.9219  32.5625  33.6875  \n",
       "2000-02-02  10.6576  35.9032  7.9688  32.5625  33.6250  "
      ]
     },
     "execution_count": 82,
     "metadata": {},
     "output_type": "execute_result"
    }
   ],
   "source": [
    "# load dataset\n",
    "asset_prices = pd.read_csv('/home/jovyan/work/readonly/spx_holdings_and_spx_closeprice.csv',\n",
    "                     date_parser=lambda dt: pd.to_datetime(dt, format='%Y-%m-%d'),\n",
    "                     index_col = 0).dropna()\n",
    "n_stocks_show = 12\n",
    "print('Asset prices shape', asset_prices.shape)\n",
    "asset_prices.iloc[:, :n_stocks_show].head()"
   ]
  },
  {
   "cell_type": "code",
   "execution_count": 83,
   "metadata": {},
   "outputs": [
    {
     "name": "stdout",
     "output_type": "stream",
     "text": [
      "Last column contains SPX index prices:\n"
     ]
    },
    {
     "data": {
      "text/html": [
       "<div>\n",
       "<table border=\"1\" class=\"dataframe\">\n",
       "  <thead>\n",
       "    <tr style=\"text-align: right;\">\n",
       "      <th></th>\n",
       "      <th>STJ</th>\n",
       "      <th>SVU</th>\n",
       "      <th>SWY</th>\n",
       "      <th>TEG</th>\n",
       "      <th>TER</th>\n",
       "      <th>TGNA</th>\n",
       "      <th>THC</th>\n",
       "      <th>X</th>\n",
       "      <th>MAR.1</th>\n",
       "      <th>SPX</th>\n",
       "    </tr>\n",
       "  </thead>\n",
       "  <tbody>\n",
       "    <tr>\n",
       "      <th>2000-01-27</th>\n",
       "      <td>5.5918</td>\n",
       "      <td>86.6178</td>\n",
       "      <td>26.3983</td>\n",
       "      <td>11.3873</td>\n",
       "      <td>65.8677</td>\n",
       "      <td>22.1921</td>\n",
       "      <td>60.9705</td>\n",
       "      <td>20.7086</td>\n",
       "      <td>12.2457</td>\n",
       "      <td>1398.56</td>\n",
       "    </tr>\n",
       "    <tr>\n",
       "      <th>2000-01-28</th>\n",
       "      <td>5.4520</td>\n",
       "      <td>82.4218</td>\n",
       "      <td>27.4137</td>\n",
       "      <td>11.2230</td>\n",
       "      <td>60.3487</td>\n",
       "      <td>21.7558</td>\n",
       "      <td>62.3032</td>\n",
       "      <td>20.1183</td>\n",
       "      <td>12.0742</td>\n",
       "      <td>1360.16</td>\n",
       "    </tr>\n",
       "    <tr>\n",
       "      <th>2000-01-31</th>\n",
       "      <td>5.5499</td>\n",
       "      <td>86.3181</td>\n",
       "      <td>28.2444</td>\n",
       "      <td>11.0862</td>\n",
       "      <td>62.1484</td>\n",
       "      <td>22.0533</td>\n",
       "      <td>60.6373</td>\n",
       "      <td>19.5772</td>\n",
       "      <td>12.1722</td>\n",
       "      <td>1394.46</td>\n",
       "    </tr>\n",
       "    <tr>\n",
       "      <th>2000-02-01</th>\n",
       "      <td>5.4240</td>\n",
       "      <td>83.0212</td>\n",
       "      <td>28.7982</td>\n",
       "      <td>11.1683</td>\n",
       "      <td>67.3674</td>\n",
       "      <td>22.2120</td>\n",
       "      <td>60.4708</td>\n",
       "      <td>19.5772</td>\n",
       "      <td>12.5151</td>\n",
       "      <td>1409.28</td>\n",
       "    </tr>\n",
       "    <tr>\n",
       "      <th>2000-02-02</th>\n",
       "      <td>5.3541</td>\n",
       "      <td>81.5226</td>\n",
       "      <td>28.6136</td>\n",
       "      <td>11.1956</td>\n",
       "      <td>68.9271</td>\n",
       "      <td>22.6483</td>\n",
       "      <td>62.4698</td>\n",
       "      <td>19.5281</td>\n",
       "      <td>12.3192</td>\n",
       "      <td>1409.12</td>\n",
       "    </tr>\n",
       "  </tbody>\n",
       "</table>\n",
       "</div>"
      ],
      "text/plain": [
       "               STJ      SVU      SWY      TEG      TER     TGNA      THC  \\\n",
       "2000-01-27  5.5918  86.6178  26.3983  11.3873  65.8677  22.1921  60.9705   \n",
       "2000-01-28  5.4520  82.4218  27.4137  11.2230  60.3487  21.7558  62.3032   \n",
       "2000-01-31  5.5499  86.3181  28.2444  11.0862  62.1484  22.0533  60.6373   \n",
       "2000-02-01  5.4240  83.0212  28.7982  11.1683  67.3674  22.2120  60.4708   \n",
       "2000-02-02  5.3541  81.5226  28.6136  11.1956  68.9271  22.6483  62.4698   \n",
       "\n",
       "                  X    MAR.1      SPX  \n",
       "2000-01-27  20.7086  12.2457  1398.56  \n",
       "2000-01-28  20.1183  12.0742  1360.16  \n",
       "2000-01-31  19.5772  12.1722  1394.46  \n",
       "2000-02-01  19.5772  12.5151  1409.28  \n",
       "2000-02-02  19.5281  12.3192  1409.12  "
      ]
     },
     "execution_count": 83,
     "metadata": {},
     "output_type": "execute_result"
    }
   ],
   "source": [
    "print('Last column contains SPX index prices:')\n",
    "asset_prices.iloc[:, -10:].head()"
   ]
  },
  {
   "cell_type": "markdown",
   "metadata": {},
   "source": [
    "#### Part 1 (Asset Returns Calculation)\n",
    "**Instructions:**\n",
    "\n",
    "Calculate percent returns, also known as simple returns using asse_prices. assign the result to variable asset_returns. Keep only not-nan values in the resulting pandas.DataFrame\n",
    "\n",
    "Calculate de-meaned returns and scale them by standard deviation $\\sigma$. Assign result to normed_returns variable"
   ]
  },
  {
   "cell_type": "markdown",
   "metadata": {},
   "source": [
    "We now compute stock returns and normalize stock returns data by subtracting the mean and dividing by standard diviation. This normalization is required by PCA."
   ]
  },
  {
   "cell_type": "code",
   "execution_count": 84,
   "metadata": {},
   "outputs": [
    {
     "data": {
      "text/html": [
       "<div>\n",
       "<table border=\"1\" class=\"dataframe\">\n",
       "  <thead>\n",
       "    <tr style=\"text-align: right;\">\n",
       "      <th></th>\n",
       "      <th>STJ</th>\n",
       "      <th>SVU</th>\n",
       "      <th>SWY</th>\n",
       "      <th>TEG</th>\n",
       "      <th>TER</th>\n",
       "      <th>TGNA</th>\n",
       "      <th>THC</th>\n",
       "      <th>X</th>\n",
       "      <th>MAR.1</th>\n",
       "      <th>SPX</th>\n",
       "    </tr>\n",
       "  </thead>\n",
       "  <tbody>\n",
       "    <tr>\n",
       "      <th>2013-12-16</th>\n",
       "      <td>0.852722</td>\n",
       "      <td>0.965219</td>\n",
       "      <td>-1.168885</td>\n",
       "      <td>0.884751</td>\n",
       "      <td>0.095865</td>\n",
       "      <td>0.656639</td>\n",
       "      <td>0.180014</td>\n",
       "      <td>-0.238498</td>\n",
       "      <td>0.465047</td>\n",
       "      <td>0.467931</td>\n",
       "    </tr>\n",
       "    <tr>\n",
       "      <th>2013-12-17</th>\n",
       "      <td>0.275173</td>\n",
       "      <td>0.517307</td>\n",
       "      <td>-0.086106</td>\n",
       "      <td>-0.306213</td>\n",
       "      <td>0.589689</td>\n",
       "      <td>-0.118610</td>\n",
       "      <td>-0.549523</td>\n",
       "      <td>0.025268</td>\n",
       "      <td>-0.260013</td>\n",
       "      <td>-0.247921</td>\n",
       "    </tr>\n",
       "    <tr>\n",
       "      <th>2013-12-18</th>\n",
       "      <td>0.864485</td>\n",
       "      <td>0.509435</td>\n",
       "      <td>0.600714</td>\n",
       "      <td>1.210605</td>\n",
       "      <td>-0.190024</td>\n",
       "      <td>0.925461</td>\n",
       "      <td>0.756998</td>\n",
       "      <td>0.058428</td>\n",
       "      <td>0.952458</td>\n",
       "      <td>1.252703</td>\n",
       "    </tr>\n",
       "    <tr>\n",
       "      <th>2013-12-19</th>\n",
       "      <td>0.210069</td>\n",
       "      <td>0.399574</td>\n",
       "      <td>-0.100159</td>\n",
       "      <td>-0.757419</td>\n",
       "      <td>-0.208023</td>\n",
       "      <td>0.304913</td>\n",
       "      <td>-0.772205</td>\n",
       "      <td>1.544228</td>\n",
       "      <td>-0.167775</td>\n",
       "      <td>-0.056358</td>\n",
       "    </tr>\n",
       "    <tr>\n",
       "      <th>2013-12-20</th>\n",
       "      <td>0.827306</td>\n",
       "      <td>0.748420</td>\n",
       "      <td>0.372443</td>\n",
       "      <td>1.048113</td>\n",
       "      <td>0.264046</td>\n",
       "      <td>0.436874</td>\n",
       "      <td>0.320641</td>\n",
       "      <td>-0.740854</td>\n",
       "      <td>0.373717</td>\n",
       "      <td>0.353859</td>\n",
       "    </tr>\n",
       "  </tbody>\n",
       "</table>\n",
       "</div>"
      ],
      "text/plain": [
       "                 STJ       SVU       SWY       TEG       TER      TGNA  \\\n",
       "2013-12-16  0.852722  0.965219 -1.168885  0.884751  0.095865  0.656639   \n",
       "2013-12-17  0.275173  0.517307 -0.086106 -0.306213  0.589689 -0.118610   \n",
       "2013-12-18  0.864485  0.509435  0.600714  1.210605 -0.190024  0.925461   \n",
       "2013-12-19  0.210069  0.399574 -0.100159 -0.757419 -0.208023  0.304913   \n",
       "2013-12-20  0.827306  0.748420  0.372443  1.048113  0.264046  0.436874   \n",
       "\n",
       "                 THC         X     MAR.1       SPX  \n",
       "2013-12-16  0.180014 -0.238498  0.465047  0.467931  \n",
       "2013-12-17 -0.549523  0.025268 -0.260013 -0.247921  \n",
       "2013-12-18  0.756998  0.058428  0.952458  1.252703  \n",
       "2013-12-19 -0.772205  1.544228 -0.167775 -0.056358  \n",
       "2013-12-20  0.320641 -0.740854  0.373717  0.353859  "
      ]
     },
     "execution_count": 84,
     "metadata": {},
     "output_type": "execute_result"
    }
   ],
   "source": [
    "asset_returns = pd.DataFrame(data=np.zeros(shape=(len(asset_prices.index), asset_prices.shape[1])), \n",
    "                             columns=asset_prices.columns.values,\n",
    "                             index=asset_prices.index)\n",
    "normed_returns = asset_returns\n",
    "### START CODE HERE ### (≈ 4 lines of code)\n",
    "# normed_returns is pandas.DataFrame that should contain normalized returns\n",
    "prev_row=0\n",
    "for index, row in asset_prices.iterrows():\n",
    "    if index == 0:\n",
    "        prev_row = row\n",
    "    else:\n",
    "        dif = row - prev_row\n",
    "        returns = dif / prev_row\n",
    "        asset_returns.loc[index]= returns\n",
    "        prev_row = row \n",
    "        \n",
    "\n",
    "asset_returns = asset_returns.drop(asset_returns.index[0], axis=0)\n",
    "normed_returns=(asset_returns - asset_returns.mean())/asset_returns.std()\n",
    "### END CODE HERE ###\n",
    "\n",
    "normed_returns.iloc[-5:, -10:].head()"
   ]
  },
  {
   "cell_type": "code",
   "execution_count": 85,
   "metadata": {},
   "outputs": [
    {
     "name": "stdout",
     "output_type": "stream",
     "text": [
      "Submission successful, please check on the coursera grader page for the status\n"
     ]
    },
    {
     "data": {
      "text/plain": [
       "array([-0.19005437, -0.51371017, -2.71470869, -0.04977943,  2.18293305,\n",
       "       -2.68413088, -0.21246093, -0.76699639, -1.5407309 , -1.80394666,\n",
       "       -1.37299129, -0.99416907,  0.16136183,  0.72980366,  0.63485621,\n",
       "       -0.72131907, -0.01302927, -0.80797756,  0.39923062, -0.75893259,\n",
       "       -1.43444651, -1.12783867, -1.29385343, -0.44802859, -2.13973399,\n",
       "        0.58949813, -0.87826364,  0.31428572, -1.08060243, -0.31367868,\n",
       "        0.11819333, -1.8686777 , -1.87275168, -0.22608376, -0.04189121,\n",
       "       -0.02136145, -0.60458719, -1.43087396, -1.16679677, -1.65594274,\n",
       "       -0.50493241, -1.5196492 , -0.36359946, -0.58859176, -0.73289901,\n",
       "        0.87654672, -3.12410596, -1.33977245, -1.33866029, -0.53051976,\n",
       "       -1.28309222, -2.2171311 ,  1.75785074,  0.22815795, -0.48093428,\n",
       "       -0.21160476, -1.39163378, -1.8907977 , -1.26523275, -0.90790361,\n",
       "        1.20007622, -1.13783598, -1.06735573, -1.49029484,  1.65191927,\n",
       "       -0.94841616,  3.36936561, -0.82344479,  1.76591258,  0.0414378 ,\n",
       "       -2.73686257, -0.93544592,  0.02499427, -0.52726361, -0.34692757,\n",
       "       -3.31744267, -1.10532688, -0.797565  , -0.45450193,  1.58036671,\n",
       "       -1.05535759, -0.19732619, -0.85221605, -3.09447476, -2.41199636,\n",
       "       -0.9392503 , -1.88367011, -2.73709342, -2.97077299, -0.52321504,\n",
       "       -0.7113052 ,  2.02582123, -1.26160414, -3.24554378, -1.04361909,\n",
       "       -0.21374985,  0.86653839, -0.53475603,  0.92652973, -0.51024788])"
      ]
     },
     "execution_count": 85,
     "metadata": {},
     "output_type": "execute_result"
    }
   ],
   "source": [
    "### GRADED PART (DO NOT EDIT) ###\n",
    "part_1=list(normed_returns.iloc[0,: 100].as_matrix().squeeze())\n",
    "try:\n",
    "    part1 = \" \".join(map(repr, part_1))\n",
    "except TypeError:\n",
    "    part1 = repr(part_1)\n",
    "submissions[all_parts[0]]=part1\n",
    "grading.submit(COURSERA_EMAIL, COURSERA_TOKEN, assignment_key,all_parts[:1],all_parts,submissions)\n",
    "normed_returns.iloc[0,: 100].as_matrix().squeeze()\n",
    "### GRADED PART (DO NOT EDIT) ###"
   ]
  },
  {
   "cell_type": "code",
   "execution_count": 86,
   "metadata": {},
   "outputs": [
    {
     "name": "stdout",
     "output_type": "stream",
     "text": [
      "Train dataset: (3055, 419)\n",
      "Test dataset: (437, 419)\n"
     ]
    }
   ],
   "source": [
    "train_end = datetime.datetime(2012, 3, 26) \n",
    "\n",
    "df_train = None\n",
    "df_test = None\n",
    "df_raw_train = None\n",
    "df_raw_test = None\n",
    "\n",
    "df_train = normed_returns[normed_returns.index <= train_end].copy()\n",
    "df_test = normed_returns[normed_returns.index > train_end].copy()\n",
    "\n",
    "df_raw_train = asset_returns[asset_returns.index <= train_end].copy()\n",
    "df_raw_test = asset_returns[asset_returns.index > train_end].copy()\n",
    "\n",
    "print('Train dataset:', df_train.shape)\n",
    "print('Test dataset:', df_test.shape)"
   ]
  },
  {
   "cell_type": "code",
   "execution_count": 87,
   "metadata": {},
   "outputs": [
    {
     "data": {
      "text/html": [
       "<div>\n",
       "<table border=\"1\" class=\"dataframe\">\n",
       "  <thead>\n",
       "    <tr style=\"text-align: right;\">\n",
       "      <th></th>\n",
       "      <th>A</th>\n",
       "      <th>AA</th>\n",
       "      <th>AAPL</th>\n",
       "      <th>ABC</th>\n",
       "      <th>ABT</th>\n",
       "      <th>ADBE</th>\n",
       "      <th>ADI</th>\n",
       "      <th>ADM</th>\n",
       "      <th>ADP</th>\n",
       "      <th>ADSK</th>\n",
       "      <th>...</th>\n",
       "      <th>STJ</th>\n",
       "      <th>SVU</th>\n",
       "      <th>SWY</th>\n",
       "      <th>TEG</th>\n",
       "      <th>TER</th>\n",
       "      <th>TGNA</th>\n",
       "      <th>THC</th>\n",
       "      <th>X</th>\n",
       "      <th>MAR.1</th>\n",
       "      <th>SPX</th>\n",
       "    </tr>\n",
       "  </thead>\n",
       "  <tbody>\n",
       "    <tr>\n",
       "      <th>2000-01-28</th>\n",
       "      <td>-0.190054</td>\n",
       "      <td>-0.513710</td>\n",
       "      <td>-2.714709</td>\n",
       "      <td>-0.049779</td>\n",
       "      <td>2.182933</td>\n",
       "      <td>-2.684131</td>\n",
       "      <td>-0.212461</td>\n",
       "      <td>-0.766996</td>\n",
       "      <td>-1.540731</td>\n",
       "      <td>-1.803947</td>\n",
       "      <td>...</td>\n",
       "      <td>-1.280756</td>\n",
       "      <td>-1.690468</td>\n",
       "      <td>1.853435</td>\n",
       "      <td>-1.032223</td>\n",
       "      <td>-2.354104</td>\n",
       "      <td>-0.735242</td>\n",
       "      <td>0.619711</td>\n",
       "      <td>-0.873112</td>\n",
       "      <td>-0.652514</td>\n",
       "      <td>-2.098603</td>\n",
       "    </tr>\n",
       "    <tr>\n",
       "      <th>2000-01-31</th>\n",
       "      <td>-0.898232</td>\n",
       "      <td>0.096888</td>\n",
       "      <td>0.688156</td>\n",
       "      <td>-1.757230</td>\n",
       "      <td>1.355644</td>\n",
       "      <td>-1.438899</td>\n",
       "      <td>-0.720771</td>\n",
       "      <td>-0.279098</td>\n",
       "      <td>-1.891884</td>\n",
       "      <td>-0.391433</td>\n",
       "      <td>...</td>\n",
       "      <td>0.845295</td>\n",
       "      <td>1.631244</td>\n",
       "      <td>1.457667</td>\n",
       "      <td>-0.877804</td>\n",
       "      <td>0.828987</td>\n",
       "      <td>0.498547</td>\n",
       "      <td>-0.789312</td>\n",
       "      <td>-0.824893</td>\n",
       "      <td>0.333856</td>\n",
       "      <td>1.903871</td>\n",
       "    </tr>\n",
       "    <tr>\n",
       "      <th>2000-02-01</th>\n",
       "      <td>2.319164</td>\n",
       "      <td>1.264327</td>\n",
       "      <td>-1.227995</td>\n",
       "      <td>1.539597</td>\n",
       "      <td>0.588289</td>\n",
       "      <td>0.451774</td>\n",
       "      <td>1.606541</td>\n",
       "      <td>0.975244</td>\n",
       "      <td>0.948126</td>\n",
       "      <td>1.272129</td>\n",
       "      <td>...</td>\n",
       "      <td>-1.166142</td>\n",
       "      <td>-1.334823</td>\n",
       "      <td>0.939094</td>\n",
       "      <td>0.473545</td>\n",
       "      <td>2.346267</td>\n",
       "      <td>0.258770</td>\n",
       "      <td>-0.093661</td>\n",
       "      <td>-0.018944</td>\n",
       "      <td>1.228056</td>\n",
       "      <td>0.795259</td>\n",
       "    </tr>\n",
       "    <tr>\n",
       "      <th>2000-02-02</th>\n",
       "      <td>2.471738</td>\n",
       "      <td>1.221529</td>\n",
       "      <td>-0.548494</td>\n",
       "      <td>0.464060</td>\n",
       "      <td>0.339454</td>\n",
       "      <td>3.133764</td>\n",
       "      <td>-0.616815</td>\n",
       "      <td>-1.012898</td>\n",
       "      <td>-3.348109</td>\n",
       "      <td>0.177340</td>\n",
       "      <td>...</td>\n",
       "      <td>-0.681225</td>\n",
       "      <td>-0.635746</td>\n",
       "      <td>-0.322437</td>\n",
       "      <td>0.131399</td>\n",
       "      <td>0.642124</td>\n",
       "      <td>0.719436</td>\n",
       "      <td>0.944422</td>\n",
       "      <td>-0.094098</td>\n",
       "      <td>-0.726004</td>\n",
       "      <td>-0.020920</td>\n",
       "    </tr>\n",
       "    <tr>\n",
       "      <th>2000-02-03</th>\n",
       "      <td>0.510174</td>\n",
       "      <td>-1.122380</td>\n",
       "      <td>1.551619</td>\n",
       "      <td>-0.388563</td>\n",
       "      <td>0.336944</td>\n",
       "      <td>4.078966</td>\n",
       "      <td>3.310577</td>\n",
       "      <td>-0.029293</td>\n",
       "      <td>4.090396</td>\n",
       "      <td>1.217955</td>\n",
       "      <td>...</td>\n",
       "      <td>1.248858</td>\n",
       "      <td>-0.392056</td>\n",
       "      <td>-0.324442</td>\n",
       "      <td>0.974903</td>\n",
       "      <td>1.334599</td>\n",
       "      <td>0.219252</td>\n",
       "      <td>-0.632596</td>\n",
       "      <td>-0.471922</td>\n",
       "      <td>1.124028</td>\n",
       "      <td>0.842399</td>\n",
       "    </tr>\n",
       "  </tbody>\n",
       "</table>\n",
       "<p>5 rows × 419 columns</p>\n",
       "</div>"
      ],
      "text/plain": [
       "                   A        AA      AAPL       ABC       ABT      ADBE  \\\n",
       "2000-01-28 -0.190054 -0.513710 -2.714709 -0.049779  2.182933 -2.684131   \n",
       "2000-01-31 -0.898232  0.096888  0.688156 -1.757230  1.355644 -1.438899   \n",
       "2000-02-01  2.319164  1.264327 -1.227995  1.539597  0.588289  0.451774   \n",
       "2000-02-02  2.471738  1.221529 -0.548494  0.464060  0.339454  3.133764   \n",
       "2000-02-03  0.510174 -1.122380  1.551619 -0.388563  0.336944  4.078966   \n",
       "\n",
       "                 ADI       ADM       ADP      ADSK    ...          STJ  \\\n",
       "2000-01-28 -0.212461 -0.766996 -1.540731 -1.803947    ...    -1.280756   \n",
       "2000-01-31 -0.720771 -0.279098 -1.891884 -0.391433    ...     0.845295   \n",
       "2000-02-01  1.606541  0.975244  0.948126  1.272129    ...    -1.166142   \n",
       "2000-02-02 -0.616815 -1.012898 -3.348109  0.177340    ...    -0.681225   \n",
       "2000-02-03  3.310577 -0.029293  4.090396  1.217955    ...     1.248858   \n",
       "\n",
       "                 SVU       SWY       TEG       TER      TGNA       THC  \\\n",
       "2000-01-28 -1.690468  1.853435 -1.032223 -2.354104 -0.735242  0.619711   \n",
       "2000-01-31  1.631244  1.457667 -0.877804  0.828987  0.498547 -0.789312   \n",
       "2000-02-01 -1.334823  0.939094  0.473545  2.346267  0.258770 -0.093661   \n",
       "2000-02-02 -0.635746 -0.322437  0.131399  0.642124  0.719436  0.944422   \n",
       "2000-02-03 -0.392056 -0.324442  0.974903  1.334599  0.219252 -0.632596   \n",
       "\n",
       "                   X     MAR.1       SPX  \n",
       "2000-01-28 -0.873112 -0.652514 -2.098603  \n",
       "2000-01-31 -0.824893  0.333856  1.903871  \n",
       "2000-02-01 -0.018944  1.228056  0.795259  \n",
       "2000-02-02 -0.094098 -0.726004 -0.020920  \n",
       "2000-02-03 -0.471922  1.124028  0.842399  \n",
       "\n",
       "[5 rows x 419 columns]"
      ]
     },
     "execution_count": 87,
     "metadata": {},
     "output_type": "execute_result"
    }
   ],
   "source": [
    "df_train.head()"
   ]
  },
  {
   "cell_type": "code",
   "execution_count": null,
   "metadata": {},
   "outputs": [],
   "source": []
  },
  {
   "cell_type": "code",
   "execution_count": 88,
   "metadata": {
    "collapsed": true
   },
   "outputs": [],
   "source": [
    "import sklearn.decomposition\n",
    "import seaborn as sns\n",
    "\n",
    "stock_tickers = normed_returns.columns.values[:-1]\n",
    "assert 'SPX' not in stock_tickers, \"By accident included SPX index\"\n",
    "\n",
    "n_tickers = len(stock_tickers)\n",
    "pca = None\n",
    "cov_matrix = pd.DataFrame(data=np.ones(shape=(n_tickers, n_tickers)), columns=stock_tickers)"
   ]
  },
  {
   "cell_type": "code",
   "execution_count": 89,
   "metadata": {},
   "outputs": [
    {
     "name": "stdout",
     "output_type": "stream",
     "text": [
      "['A' 'AA' 'AAPL' 'ABC' 'ABT' 'ADBE' 'ADI' 'ADM' 'ADP' 'ADSK' 'AEE' 'AEP'\n",
      " 'AES' 'AFL' 'AGN' 'AIG' 'AIV' 'AKAM' 'AKS' 'ALL' 'AMAT' 'AMD' 'AMGN' 'AMT'\n",
      " 'AMZN' 'AN' 'ANDV' 'ANF' 'AON' 'APA' 'APC' 'APD' 'APH' 'APOL' 'ARG' 'ATGE'\n",
      " 'AVB' 'AVY' 'AXP' 'AZO' 'BA' 'BAC' 'BAX' 'BBT' 'BBY' 'BCR' 'BDX' 'BEN'\n",
      " 'BHGE' 'BIIB' 'BK' 'BLL' 'BMY' 'BRCM' 'BSX' 'BXP' 'C' 'CA' 'CAG' 'CAH'\n",
      " 'CAM' 'CAT' 'CB' 'CBS' 'CCL' 'CELG' 'CERN' 'CHK' 'CHRW' 'CI' 'CINF' 'CL'\n",
      " 'CLF' 'CLX' 'CMA' 'CMCSA' 'CMI' 'CMS' 'CNP' 'CNX' 'COF' 'COG' 'COP' 'COST'\n",
      " 'CPB' 'CSCO' 'CSX' 'CTAS' 'CTL' 'CTSH' 'CTXS' 'CVS' 'CVX' 'D' 'DE' 'DF'\n",
      " 'DGX' 'DHI' 'DHR' 'DIS' 'DNR' 'DO' 'DOV' 'DRI' 'DTE' 'DUK' 'DVA' 'DVN'\n",
      " 'EA' 'EBAY' 'ECL' 'ED' 'EFX' 'EIX' 'EL' 'EMN' 'EMR' 'EOG' 'EQR' 'EQT' 'ES'\n",
      " 'ESRX' 'ETFC' 'ETN' 'ETR' 'EXC' 'EXPD' 'F' 'FAST' 'FCX' 'FDO' 'FDX' 'FE'\n",
      " 'FFIV' 'FHN' 'FII' 'FISV' 'FITB' 'FLIR' 'FLS' 'FMC' 'FOXA' 'FRX' 'FTR'\n",
      " 'GD' 'GE' 'GHC' 'GILD' 'GIS' 'GLW' 'GPC' 'GPS' 'GS' 'GT' 'GWW' 'HAL' 'HAR'\n",
      " 'HAS' 'HBAN' 'HCBK' 'HCN' 'HCP' 'HD' 'HES' 'HIG' 'HOG' 'HON' 'HOT' 'HP'\n",
      " 'HPQ' 'HRB' 'HRL' 'HRS' 'HST' 'HSY' 'HUM' 'IBM' 'IFF' 'INTC' 'INTU' 'IP'\n",
      " 'IPG' 'IR' 'IRM' 'ITW' 'IVZ' 'JBL' 'JCI' 'JEC' 'JNJ' 'JNPR' 'JPM' 'JWN'\n",
      " 'K' 'KEY' 'KIM' 'KLAC' 'KMB' 'KMX' 'KO' 'KR' 'KSS' 'L' 'LB' 'LEG' 'LEN'\n",
      " 'LH' 'LLL' 'LLTC' 'LLY' 'LM' 'LMT' 'LNC' 'LOW' 'LUK' 'LUV' 'M' 'MAR' 'MAS'\n",
      " 'MAT' 'MCD' 'MCHP' 'MCK' 'MCO' 'MDT' 'MKC' 'MMC' 'MMM' 'MO' 'MRK' 'MRO'\n",
      " 'MS' 'MSFT' 'MSI' 'MTB' 'MU' 'MUR' 'MWW' 'MYL' 'NBL' 'NBR' 'NE' 'NEE'\n",
      " 'NEM' 'NFX' 'NI' 'NKE' 'NOC' 'NOV' 'NSC' 'NTAP' 'NTRS' 'NUE' 'NVDA' 'NWL'\n",
      " 'OI' 'OKE' 'OMC' 'ORCL' 'ORLY' 'OXY' 'PAYX' 'PBCT' 'PCAR' 'PCG' 'PCL'\n",
      " 'PCLN' 'PCP' 'PDCO' 'PEG' 'PEP' 'PFE' 'PG' 'PGR' 'PH' 'PHM' 'PKI' 'PNC'\n",
      " 'PNW' 'PPG' 'PPL' 'PSA' 'PWR' 'PX' 'PXD' 'QCOM' 'QLGC' 'RAI' 'RF' 'RHI'\n",
      " 'RHT' 'RL' 'ROK' 'ROP' 'ROST' 'RRC' 'RSG' 'RTN' 'SBUX' 'SCG' 'SCHW' 'SEE'\n",
      " 'SHW' 'SJM' 'SLB' 'SNA' 'SNDK' 'SO' 'SPG' 'SPGI' 'SRCL' 'SRE' 'STI' 'STR'\n",
      " 'STT' 'STZ' 'SUNEQ' 'SWK' 'SWN' 'SYK' 'SYMC' 'SYY' 'T' 'TAP' 'TGT' 'TIF'\n",
      " 'TJX' 'TMK' 'TMO' 'TROW' 'TRV' 'TSN' 'TSS' 'TWX' 'TXN' 'TXT' 'UNH' 'UNM'\n",
      " 'UNP' 'UPS' 'URBN' 'USB' 'UTX' 'VAR' 'VFC' 'VIAV' 'VLO' 'VMC' 'VNO' 'VRSN'\n",
      " 'VTR' 'VZ' 'WAT' 'WBA' 'WDC' 'WEC' 'WFC' 'WFM' 'WHR' 'WM' 'WMT' 'WY' 'XEL'\n",
      " 'XL' 'XLNX' 'XOM' 'XRAY' 'XRX' 'YUM' 'ZION' '1255459D' '1284849D'\n",
      " '1431816D' '1436513D' '1448062D' '1500785D' '1519128D' '1541931D'\n",
      " '9876544D' '9876566D' '9876641D' 'ATI' 'AVP' 'BBBY' 'BF/B' 'BIG' 'BMS'\n",
      " 'BRK/B' 'CSC' 'CVC' 'DD' 'DOW' 'EMC' 'HSH' 'ITT' 'JCP' 'LXK' 'MDP' 'NYT'\n",
      " 'ODP' 'PBI' 'PLL' 'R' 'RDC' 'RRD' 'RSHCQ' 'SIAL' 'SLM' 'SPLS' 'STJ' 'SVU'\n",
      " 'SWY' 'TEG' 'TER' 'TGNA' 'THC' 'X' 'MAR.1']\n"
     ]
    }
   ],
   "source": [
    "print(stock_tickers)"
   ]
  },
  {
   "cell_type": "code",
   "execution_count": null,
   "metadata": {},
   "outputs": [],
   "source": []
  },
  {
   "cell_type": "markdown",
   "metadata": {},
   "source": [
    "Now we compute PCA using all available data. Once we do have PCA computed we fix variance explained at some number and see what is the smallest number of components needed to explain this variance."
   ]
  },
  {
   "cell_type": "markdown",
   "metadata": {},
   "source": [
    "#### Part 2 (PCA fitting)\n",
    "**Instructions:**\n",
    "- Calculate covariance matrix using training data set, i.e. **df_train** for all assets.  Assign results to **cov_matrix**.\n",
    "- Calculate covariance matrix using training data set, i.e. **df_raw_train** for all assets.  Assign results to **cov_matrix_raw**.\n",
    "- Use scikit-learn PCA to fit PCA model to **cov_matrix**. Assign fitted model to **pca**"
   ]
  },
  {
   "cell_type": "code",
   "execution_count": 90,
   "metadata": {},
   "outputs": [
    {
     "name": "stdout",
     "output_type": "stream",
     "text": [
      "4 components explain 80.00% of variance\n",
      "4 components explain 80.00% of variance\n"
     ]
    }
   ],
   "source": [
    "import sklearn.decomposition\n",
    "import seaborn as sns\n",
    "\n",
    "stock_tickers = normed_returns.columns.values[:-1]\n",
    "assert 'SPX' not in stock_tickers, \"By accident included SPX index\"\n",
    "\n",
    "n_tickers = len(stock_tickers)\n",
    "pca = None\n",
    "cov_matrix = pd.DataFrame(data=np.ones(shape=(n_tickers, n_tickers)), columns=stock_tickers)\n",
    "cov_matrix_raw = cov_matrix\n",
    "\n",
    "if df_train is not None and df_raw_train is not None:\n",
    "    stock_tickers = asset_returns.columns.values[:-1]\n",
    "    assert 'SPX' not in stock_tickers, \"By accident included SPX index\"\n",
    "\n",
    "    ### START CODE HERE ### (≈ 2-3 lines of code)\n",
    "    cov_matrix = df_train[stock_tickers].cov()\n",
    "  \n",
    "    \n",
    "    # computing PCA on S&P 500 stocks\n",
    "    \n",
    "    model = sklearn.decomposition.PCA()\n",
    "    pca= model.fit(cov_matrix)\n",
    "\n",
    "    # not normed covariance matrix\n",
    "    \n",
    "    cov_matrix_raw = df_raw_train[stock_tickers].cov()\n",
    "    \n",
    "    ### END CODE HERE ###\n",
    "    \n",
    "    cov_raw_df = pd.DataFrame({'Variance': np.diag(cov_matrix_raw)}, index=stock_tickers)    \n",
    "    # cumulative variance explained\n",
    "    var_threshold = 0.8\n",
    "    var_explained = np.cumsum(pca.explained_variance_ratio_)\n",
    "    num_comp = np.where(np.logical_not(var_explained < var_threshold))[0][0] + 1  # +1 due to zero based-arrays\n",
    "    print('%d components explain %.2f%% of variance' %(num_comp, 100* var_threshold))\n",
    "    \n",
    "    cov_df = pd.DataFrame({'Variance': np.diag(cov_matrix)}, index=stock_tickers)    \n",
    "    # cumulative variance explained\n",
    "    var_threshold = 0.8\n",
    "    var_explained = np.cumsum(pca.explained_variance_ratio_)\n",
    "    num_comp = np.where(np.logical_not(var_explained < var_threshold))[0][0] + 1  # +1 due to zero based-arrays\n",
    "    print('%d components explain %.2f%% of variance' %(num_comp, 100* var_threshold))"
   ]
  },
  {
   "cell_type": "code",
   "execution_count": 91,
   "metadata": {},
   "outputs": [
    {
     "name": "stdout",
     "output_type": "stream",
     "text": [
      "(418, 418)\n",
      "(418, 418)\n"
     ]
    }
   ],
   "source": [
    "print(cov_matrix.shape)\n",
    "print(cov_matrix_raw.shape)"
   ]
  },
  {
   "cell_type": "code",
   "execution_count": 92,
   "metadata": {},
   "outputs": [
    {
     "name": "stdout",
     "output_type": "stream",
     "text": [
      "Submission successful, please check on the coursera grader page for the status\n"
     ]
    },
    {
     "data": {
      "text/plain": [
       "array([ 1.10446611,  1.09424087,  1.08190134,  1.10517006,  1.06941473,\n",
       "        1.10597862,  1.11869287,  1.0839399 ,  1.09803084,  1.06590728,\n",
       "        1.07798702,  1.107393  ,  1.12418337,  1.10412774,  1.07721126,\n",
       "        1.11952577,  1.11507312,  1.10687469,  1.04827028,  1.10800935,\n",
       "        1.10480045,  1.04297489,  1.07466613,  1.12510255,  1.10831513,\n",
       "        1.09118222,  1.08418296,  1.02668336,  1.09808835,  1.08506552,\n",
       "        1.08022595,  1.08116796,  1.09591114,  0.99807688,  1.11068716,\n",
       "        1.01433366,  1.10360906,  1.06598755,  1.11003861,  1.0879927 ,\n",
       "        1.08236593,  1.093903  ,  1.08489115,  1.1050359 ,  0.99850151,\n",
       "        1.08347058,  1.1019318 ,  1.08932552,  1.08876911,  1.09560839,\n",
       "        1.1027858 ,  1.09150807,  1.07067427,  1.1119615 ,  1.07304668,\n",
       "        1.10625388,  1.10454709,  1.11531806,  1.06707655,  1.08925028,\n",
       "        1.07207857,  1.08151718,  1.11539438,  1.09563297,  1.09915349,\n",
       "        1.10098573,  1.09770417,  1.05315411,  1.08235287,  1.10420203,\n",
       "        1.10765821,  1.08524638,  1.02531398,  1.10595498,  1.10337109,\n",
       "        1.10913785,  1.08713617,  1.11825335,  1.11819787,  1.08122381,\n",
       "        1.11686164,  1.0559472 ,  1.09614651,  1.10212167,  1.06172191,\n",
       "        1.09017849,  1.09338258,  1.11186398,  1.04779305,  1.0920264 ,\n",
       "        1.09189706,  1.10245445,  1.09369637,  1.09399401,  1.09920198,\n",
       "        0.92356831,  1.0993287 ,  1.05898641,  1.08077773,  1.09900737])"
      ]
     },
     "execution_count": 92,
     "metadata": {},
     "output_type": "execute_result"
    }
   ],
   "source": [
    "### GRADED PART (DO NOT EDIT) ###\n",
    "part_2 = np.diag(cov_matrix[: 100])\n",
    "try:\n",
    "    part2 = \" \".join(map(repr, part_2))\n",
    "except TypeError:\n",
    "    part2 = repr(part_2)\n",
    "submissions[all_parts[1]]=part2\n",
    "grading.submit(COURSERA_EMAIL, COURSERA_TOKEN, assignment_key,all_parts[:2],all_parts,submissions)\n",
    "### GRADED PART (DO NOT EDIT) ###\n",
    "np.diag(cov_matrix[: 100])"
   ]
  },
  {
   "cell_type": "code",
   "execution_count": 93,
   "metadata": {},
   "outputs": [
    {
     "data": {
      "image/png": "[encoded data removed]",
      "text/plain": [
       "<matplotlib.figure.Figure at 0x7f73f2bd3ef0>"
      ]
     },
     "metadata": {},
     "output_type": "display_data"
    }
   ],
   "source": [
    "if pca is not None:\n",
    "    bar_width = 0.9\n",
    "    n_asset = int((1 / 10) * normed_returns.shape[1])\n",
    "    x_indx = np.arange(n_asset)\n",
    "    fig, ax = plt.subplots()\n",
    "    fig.set_size_inches(12, 4)\n",
    "    # Eigenvalues are measured as percentage of explained variance.\n",
    "    rects = ax.bar(x_indx, pca.explained_variance_ratio_[:n_asset], bar_width, color='deepskyblue')\n",
    "    ax.set_xticks(x_indx + bar_width / 2)\n",
    "    ax.set_xticklabels(list(range(n_asset)), rotation=45)\n",
    "    ax.set_title('Percent variance explained')\n",
    "    ax.legend((rects[0],), ('Percent variance explained by principal components',))"
   ]
  },
  {
   "cell_type": "code",
   "execution_count": 94,
   "metadata": {
    "collapsed": true
   },
   "outputs": [],
   "source": [
    "if pca is not None:\n",
    "    projected = pca.fit_transform(cov_matrix)"
   ]
  },
  {
   "cell_type": "code",
   "execution_count": 95,
   "metadata": {},
   "outputs": [
    {
     "data": {
      "text/plain": [
       "array([[  5.99533256e-01,   1.35021181e+00,   7.94951489e-01, ...,\n",
       "          6.15374007e-04,   4.36980941e-09,   1.00526800e-16],\n",
       "       [ -1.96005493e+00,  -4.39801851e-01,   7.19851269e-01, ...,\n",
       "          1.20433717e-03,  -1.33100580e-09,   1.00526800e-16],\n",
       "       [  1.41456470e+00,   1.26677024e+00,   5.87815635e-01, ...,\n",
       "          1.14327144e-04,  -1.41714594e-08,   1.00526800e-16],\n",
       "       ..., \n",
       "       [  2.44423539e+00,  -4.32370030e-01,  -4.49393985e-01, ...,\n",
       "         -5.31621434e-04,   1.38184401e-08,   1.00526800e-16],\n",
       "       [ -1.36481367e+00,  -4.74959354e-01,   8.27530332e-01, ...,\n",
       "          7.26003906e-03,   5.16560853e-08,   1.00526800e-16],\n",
       "       [ -2.02334609e+00,   5.42289356e-01,  -2.54638456e-01, ...,\n",
       "          7.13728487e-04,   4.65980725e-05,   1.00526800e-16]])"
      ]
     },
     "execution_count": 95,
     "metadata": {},
     "output_type": "execute_result"
    }
   ],
   "source": [
    "projected"
   ]
  },
  {
   "cell_type": "markdown",
   "metadata": {},
   "source": [
    "#### Part 3 (Eigen-portfolios construction)\n",
    "\n",
    "**Instructions:**\n",
    "\n",
    "We now look a the first two eigen portfolios. We use definition of eigen portfolios as provided by Avellaneda \n",
    "http://math.nyu.edu/faculty/avellane/AvellanedaLeeStatArb20090616.pdf\n",
    "\n",
    "Following Avellaneda we define eigen portfolio weights as:\n",
    "$$Q_i^{(j)} = \\frac{v_i^{(j)}}{\\sigma_i}$$\n",
    "\n",
    "where $j$ is the index of eigen portfolio and $v_i$ is the i-th element of j-th eigen vector.\n",
    "\n",
    "In the code the pca.components_ are the Principal axes in feature space, representing the directions of maximum variance in the data. The components are sorted by explained_variance_.\n",
    "\n",
    "**Hint:** do not forget to normalize portfolio wieghts such they sum up to 1.\n",
    "\n",
    "Assign **pc_w** to be weights of the first eigen portfolio."
   ]
  },
  {
   "cell_type": "code",
   "execution_count": 96,
   "metadata": {
    "scrolled": true
   },
   "outputs": [
    {
     "name": "stdout",
     "output_type": "stream",
     "text": [
      "Sum of weights of first eigen-portfolio: 1.00\n"
     ]
    },
    {
     "data": {
      "image/png": "[encoded data removed]",
      "text/plain": [
       "<matplotlib.figure.Figure at 0x7f73f2c479b0>"
      ]
     },
     "metadata": {},
     "output_type": "display_data"
    }
   ],
   "source": [
    "# the first two eigen-portfolio weights# the fi \n",
    "# first component\n",
    "# get the Principal components\n",
    "pc_w = np.zeros(len(stock_tickers))\n",
    "eigen_prtf1 = pd.DataFrame(data ={'weights': pc_w.squeeze()}, index = stock_tickers)\n",
    "if pca is not None:\n",
    "    pcs = pca.components_\n",
    "\n",
    "    ### START CODE HERE ### (≈ 1-2 lines of code)\n",
    "    # normalized to 1 \n",
    "    normalized_pcs = list()\n",
    "    for eigen_vector in pcs:\n",
    "        normalized_values = eigen_vector/eigen_vector.sum()\n",
    "        normalized_pcs.append(normalized_values)\n",
    "    \n",
    "    pc_w = normalized_pcs[0]\n",
    "    \n",
    "    \n",
    "    ### END CODE HERE ###\n",
    "    \n",
    "    eigen_prtf1 = pd.DataFrame(data ={'weights': pc_w.squeeze()}, index = stock_tickers)\n",
    "    eigen_prtf1.sort_values(by=['weights'], ascending=False, inplace=True)\n",
    "    print('Sum of weights of first eigen-portfolio: %.2f' % np.sum(eigen_prtf1))\n",
    "    eigen_prtf1.plot(title='First eigen-portfolio weights', \n",
    "                     figsize=(12,6), \n",
    "                     xticks=range(0, len(stock_tickers),10), \n",
    "                     rot=45, \n",
    "                     linewidth=3)"
   ]
  },
  {
   "cell_type": "code",
   "execution_count": 97,
   "metadata": {},
   "outputs": [
    {
     "name": "stdout",
     "output_type": "stream",
     "text": [
      "Submission successful, please check on the coursera grader page for the status\n"
     ]
    },
    {
     "data": {
      "text/plain": [
       "array([ 0.00474684,  0.00467923,  0.00465829,  0.00464098,  0.00461982,\n",
       "        0.00459222,  0.00458831,  0.00456252,  0.00451925,  0.00450033,\n",
       "        0.00448614,  0.00446354,  0.0044623 ,  0.00444749,  0.00437271,\n",
       "        0.00436422,  0.00433599,  0.00429289,  0.00425686,  0.00424989,\n",
       "        0.00423226,  0.00422004,  0.00418344,  0.00417751,  0.00415142,\n",
       "        0.00414876,  0.00411157,  0.00409102,  0.00408561,  0.00408384,\n",
       "        0.00404139,  0.00403797,  0.00401743,  0.00397915,  0.00395989,\n",
       "        0.00395927,  0.00395151,  0.00394123,  0.00391582,  0.00389953,\n",
       "        0.00389721,  0.00389423,  0.00388596,  0.00385874,  0.00384624,\n",
       "        0.00383648,  0.00383015,  0.00381203,  0.00379046,  0.00378523,\n",
       "        0.00374841,  0.00374227,  0.00373281,  0.0037319 ,  0.00372549,\n",
       "        0.00371816,  0.00371531,  0.00371456,  0.0037119 ,  0.00370875,\n",
       "        0.00370062,  0.00369359,  0.00368471,  0.0036808 ,  0.00367879,\n",
       "        0.00364518,  0.0036417 ,  0.00363711,  0.00363353,  0.00361312,\n",
       "        0.00360579,  0.00359048,  0.00358993,  0.00356483,  0.00355296,\n",
       "        0.00354606,  0.00352386,  0.00351728,  0.00350608,  0.00349197,\n",
       "        0.00348676,  0.0034861 ,  0.00348275,  0.00348056,  0.00347474,\n",
       "        0.00346688,  0.00345395,  0.0034483 ,  0.00344069,  0.00343198,\n",
       "        0.00340623,  0.00339706,  0.00338812,  0.00337703,  0.00336374,\n",
       "        0.00334896,  0.00334632,  0.00334481,  0.00334301,  0.00333419,\n",
       "        0.00333195,  0.00331924,  0.00331756,  0.0033092 ,  0.00330103,\n",
       "        0.0032958 ,  0.00329504,  0.00328683,  0.00326805,  0.00325074,\n",
       "        0.00322805,  0.0032213 ,  0.00321476,  0.0032038 ,  0.00318187,\n",
       "        0.00316957,  0.00316078,  0.00314495,  0.00310805,  0.00309751,\n",
       "        0.00309478,  0.00308475,  0.00306193,  0.00305602,  0.00305361,\n",
       "        0.00305306,  0.00304953,  0.00304925,  0.00304073,  0.00304025,\n",
       "        0.00303969,  0.00303048,  0.00302708,  0.0030144 ,  0.00299781,\n",
       "        0.00299725,  0.00298213,  0.00296851,  0.00296182,  0.00295557,\n",
       "        0.00295063,  0.00293898,  0.00293313,  0.00293179,  0.0029262 ,\n",
       "        0.00291107,  0.00291013,  0.00290891,  0.00289685,  0.00289582,\n",
       "        0.00285316,  0.00284713,  0.00281397,  0.00281149,  0.00280852,\n",
       "        0.00280583,  0.00280527,  0.00279287,  0.00278952,  0.00277734,\n",
       "        0.00276879,  0.0027466 ,  0.00274092,  0.00273815,  0.00273775,\n",
       "        0.00273581,  0.00272014,  0.00269816,  0.00269726,  0.0026848 ,\n",
       "        0.00268393,  0.00266147,  0.00265812,  0.0026543 ,  0.00265361,\n",
       "        0.00264999,  0.00264864,  0.00263173,  0.00263123,  0.00260653,\n",
       "        0.00260525,  0.00260003,  0.00259478,  0.0025901 ,  0.00258389,\n",
       "        0.0025832 ,  0.00257715,  0.00256264,  0.00256068,  0.00254953,\n",
       "        0.00254888,  0.00254536,  0.00254353,  0.00250288,  0.00249316,\n",
       "        0.00248138,  0.00248068,  0.00246803,  0.00246324,  0.00245734,\n",
       "        0.00245225,  0.002418  ,  0.00241164,  0.00238041,  0.00238011,\n",
       "        0.00237091,  0.00235478,  0.0023177 ,  0.00230229,  0.00229178,\n",
       "        0.00228908,  0.00227798,  0.0022202 ,  0.0022137 ,  0.00221002,\n",
       "        0.0022077 ,  0.00220315,  0.00219733,  0.0021824 ,  0.0021474 ,\n",
       "        0.00214332,  0.00214171,  0.00213359,  0.00212814,  0.00212717,\n",
       "        0.00212406,  0.0021228 ,  0.00210353,  0.00209444,  0.00208961,\n",
       "        0.00207699,  0.00206513,  0.00205035,  0.0020338 ,  0.00203114,\n",
       "        0.00202752,  0.00201862,  0.00201293,  0.00201275,  0.00200925,\n",
       "        0.00200701,  0.00200359,  0.0019987 ,  0.00199006,  0.00198805,\n",
       "        0.00198226,  0.00197954,  0.00195239,  0.0019447 ,  0.00194432,\n",
       "        0.00193177,  0.0019273 ,  0.00190862,  0.00190393,  0.00189999,\n",
       "        0.00189656,  0.00189169,  0.00188607,  0.00187627,  0.00186974,\n",
       "        0.00186045,  0.00185982,  0.00185593,  0.00184733,  0.00184171,\n",
       "        0.00182072,  0.0018132 ,  0.00181155,  0.00180277,  0.00179684,\n",
       "        0.00179001,  0.00177593,  0.00176733,  0.00176248,  0.00175005,\n",
       "        0.00174423,  0.00173149,  0.00173048,  0.00172336,  0.00170155,\n",
       "        0.00168597,  0.0016753 ,  0.00166294,  0.0016538 ,  0.00163565,\n",
       "        0.00162698,  0.00161623,  0.0016105 ,  0.00159258,  0.00158973,\n",
       "        0.00157365,  0.00156882,  0.00156632,  0.00156288,  0.00155398,\n",
       "        0.00154898,  0.00154767,  0.00154688,  0.00154535,  0.00153443,\n",
       "        0.00151877,  0.00151867,  0.00151655,  0.00151089,  0.00150436,\n",
       "        0.00150135,  0.00149695,  0.00148716,  0.00148661,  0.00148024,\n",
       "        0.00146996,  0.00146912,  0.00146622,  0.00144778,  0.00143902,\n",
       "        0.00142454,  0.00141205,  0.00141201,  0.00140748,  0.00140069,\n",
       "        0.00139851,  0.00139517,  0.00139107,  0.00138451,  0.00136885,\n",
       "        0.00136237,  0.00135626,  0.00135333,  0.00134857,  0.00134688,\n",
       "        0.00134138,  0.00133574,  0.00131884,  0.0013176 ,  0.00131286,\n",
       "        0.00129954,  0.00129936,  0.00129613,  0.00128846,  0.00128057,\n",
       "        0.00127752,  0.00125585,  0.0012548 ,  0.00124804,  0.00124178,\n",
       "        0.0012409 ,  0.00123788,  0.00123431,  0.00122101,  0.00121919,\n",
       "        0.00121341,  0.00121029,  0.00120519,  0.00120388,  0.00119064,\n",
       "        0.00119027,  0.00118643,  0.00117954,  0.00116478,  0.00116141,\n",
       "        0.00115762,  0.00115677,  0.00115356,  0.00115348,  0.0011512 ,\n",
       "        0.00114793,  0.00114326,  0.00112993,  0.00112645,  0.00112307,\n",
       "        0.00112009,  0.00110891,  0.0011049 ,  0.00109598,  0.00108484,\n",
       "        0.00106564,  0.00106521,  0.00105447,  0.00104495,  0.00104384,\n",
       "        0.00104184,  0.00103131,  0.00102385,  0.00100776,  0.00099705,\n",
       "        0.00098516,  0.0009786 ,  0.00096179,  0.0009612 ,  0.00094714,\n",
       "        0.00093458,  0.00092033,  0.00090449,  0.00086168,  0.00083114,\n",
       "        0.00081858,  0.0008105 ,  0.00080331,  0.00078235,  0.0007737 ,\n",
       "        0.00075233,  0.00074593,  0.00072766,  0.00072516,  0.0006943 ,\n",
       "        0.00069315,  0.00068072,  0.00064177,  0.00063428,  0.00063013,\n",
       "        0.00060865,  0.00058319,  0.00056938,  0.00054837,  0.00047803,\n",
       "        0.00040567,  0.00037377,  0.00032304])"
      ]
     },
     "execution_count": 97,
     "metadata": {},
     "output_type": "execute_result"
    }
   ],
   "source": [
    "### GRADED PART (DO NOT EDIT) ###\n",
    "part_3 = list(eigen_prtf1.squeeze().values)\n",
    "try:\n",
    "    part3 = \" \".join(map(repr, part_3))\n",
    "except TypeError:\n",
    "    part3 = repr(part_3)\n",
    "submissions[all_parts[2]]=part3\n",
    "grading.submit(COURSERA_EMAIL, COURSERA_TOKEN, assignment_key,all_parts[:3],all_parts,submissions)\n",
    "eigen_prtf1.squeeze().values\n",
    "### GRADED PART (DO NOT EDIT) ###"
   ]
  },
  {
   "cell_type": "code",
   "execution_count": null,
   "metadata": {
    "collapsed": true
   },
   "outputs": [],
   "source": []
  },
  {
   "cell_type": "markdown",
   "metadata": {},
   "source": [
    "We sort the first two eigen portfolio weights and plot the results."
   ]
  },
  {
   "cell_type": "code",
   "execution_count": 98,
   "metadata": {},
   "outputs": [
    {
     "name": "stdout",
     "output_type": "stream",
     "text": [
      "Sum of weights of second eigen-portfolio: 1.00\n"
     ]
    },
    {
     "data": {
      "image/png": "[encoded data removed]",
      "text/plain": [
       "<matplotlib.figure.Figure at 0x7f73f2bd3f28>"
      ]
     },
     "metadata": {},
     "output_type": "display_data"
    }
   ],
   "source": [
    "pc_w = np.zeros(len(stock_tickers))\n",
    "eigen_prtf2 = pd.DataFrame(data ={'weights': pc_w.squeeze()}, index = stock_tickers)\n",
    "\n",
    "if pca is not None:\n",
    "    pcs = pca.components_\n",
    "    \n",
    "    ### START CODE HERE ### (≈ 1-2 lines of code)\n",
    "    # normalized to 1 \n",
    "\n",
    "    pc_w = normalized_pcs[1]\n",
    "    \n",
    "    ### END CODE HERE ###\n",
    "\n",
    "    eigen_prtf2 = pd.DataFrame(data ={'weights': pc_w.squeeze()}, index = stock_tickers)\n",
    "    eigen_prtf2.sort_values(by=['weights'], ascending=False, inplace=True)\n",
    "    print('Sum of weights of second eigen-portfolio: %.2f' % np.sum(eigen_prtf2))\n",
    "    eigen_prtf2.plot(title='Second eigen-portfolio weights',\n",
    "                     figsize=(12,6), \n",
    "                     xticks=range(0, len(stock_tickers),10), \n",
    "                     rot=45, \n",
    "                     linewidth=3)"
   ]
  },
  {
   "cell_type": "code",
   "execution_count": 99,
   "metadata": {},
   "outputs": [
    {
     "name": "stdout",
     "output_type": "stream",
     "text": [
      "Submission successful, please check on the coursera grader page for the status\n"
     ]
    },
    {
     "data": {
      "text/plain": [
       "array([ 0.51659863,  0.51537245,  0.51053178,  0.50595624,  0.50539843,\n",
       "        0.5036011 ,  0.48992119,  0.48860581,  0.47875217,  0.47397077,\n",
       "        0.46953745,  0.46519406,  0.45231026,  0.42904973,  0.42019289,\n",
       "        0.41788349,  0.41565158,  0.41466788,  0.40536695,  0.40273075,\n",
       "        0.39597751,  0.38170701,  0.38160056,  0.37928075,  0.37275149,\n",
       "        0.36815961,  0.35794346,  0.35231338,  0.33978461,  0.33928504,\n",
       "        0.33103838,  0.3306117 ,  0.31957331,  0.31860678,  0.31201403,\n",
       "        0.30942357,  0.30456784,  0.2974195 ,  0.29468157,  0.28982495,\n",
       "        0.28910102,  0.26583998,  0.26539619,  0.26529602,  0.26026132,\n",
       "        0.25844553,  0.25843782,  0.2583095 ,  0.25518651,  0.25338009,\n",
       "        0.25200868,  0.24629317,  0.24376092,  0.23307213,  0.21343938,\n",
       "        0.21202694,  0.20245421,  0.20173745,  0.19664159,  0.19317832,\n",
       "        0.1824906 ,  0.18137966,  0.1791072 ,  0.17614963,  0.17613856,\n",
       "        0.17301588,  0.1723577 ,  0.17148835,  0.16868285,  0.16562858,\n",
       "        0.1635891 ,  0.1632134 ,  0.16290909,  0.16180337,  0.15924432,\n",
       "        0.15810858,  0.15799329,  0.1531184 ,  0.1512564 ,  0.150164  ,\n",
       "        0.14964078,  0.14613475,  0.14495969,  0.14428983,  0.14148894,\n",
       "        0.14011558,  0.13947291,  0.13645295,  0.13497906,  0.13094768,\n",
       "        0.13016927,  0.12999874,  0.12906269,  0.12668724,  0.12630934,\n",
       "        0.12473626,  0.12472382,  0.1246925 ,  0.12378869,  0.12376288,\n",
       "        0.12365491,  0.12347317,  0.12337731,  0.11945849,  0.11943431,\n",
       "        0.1193989 ,  0.11877809,  0.11859991,  0.11693879,  0.11680204,\n",
       "        0.11621067,  0.11618297,  0.11613882,  0.11280543,  0.11148738,\n",
       "        0.11115622,  0.106119  ,  0.1060018 ,  0.1039696 ,  0.10394032,\n",
       "        0.10206447,  0.09972767,  0.09742366,  0.09635804,  0.09331281,\n",
       "        0.09212028,  0.09065303,  0.08898334,  0.08687878,  0.08676193,\n",
       "        0.08665453,  0.08607622,  0.08362721,  0.08303492,  0.08243717,\n",
       "        0.08095927,  0.0785164 ,  0.07828148,  0.07792443,  0.07688328,\n",
       "        0.07635434,  0.07502651,  0.07426527,  0.07215661,  0.07163507,\n",
       "        0.07021169,  0.06790198,  0.06662683,  0.06647199,  0.06613499,\n",
       "        0.06500466,  0.06419539,  0.06372416,  0.06325794,  0.06089991,\n",
       "        0.06055785,  0.06007184,  0.05925448,  0.05924306,  0.05890408,\n",
       "        0.05875212,  0.0587152 ,  0.05809149,  0.05754589,  0.05721865,\n",
       "        0.05659604,  0.05603367,  0.0559652 ,  0.05465966,  0.05260572,\n",
       "        0.05170783,  0.05099421,  0.05036122,  0.05003526,  0.04768735,\n",
       "        0.04607454,  0.04405932,  0.0436808 ,  0.04339661,  0.04193013,\n",
       "        0.04127615,  0.04063948,  0.03921541,  0.03815243,  0.03426679,\n",
       "        0.03309375,  0.03300134,  0.03022639,  0.02989924,  0.02713808,\n",
       "        0.02657863,  0.0241438 ,  0.02219664,  0.01881843,  0.01805372,\n",
       "        0.01355285,  0.01320828,  0.01288237,  0.01264325,  0.01246147,\n",
       "        0.01241371,  0.01186078,  0.01178288,  0.01166859,  0.01116313,\n",
       "        0.01098882,  0.01094118,  0.01040422,  0.00958939,  0.00637685,\n",
       "        0.00549291,  0.00419094,  0.00363401,  0.00278528,  0.00240417,\n",
       "       -0.00134243, -0.00241533, -0.00252749, -0.0038958 , -0.00408995,\n",
       "       -0.00491204, -0.00498766, -0.00538271, -0.00618342, -0.00654082,\n",
       "       -0.00993567, -0.01177748, -0.01518164, -0.01580874, -0.01618586,\n",
       "       -0.01633262, -0.01893102, -0.01894417, -0.01896071, -0.01915519,\n",
       "       -0.02030967, -0.02083371, -0.02199919, -0.02230612, -0.02307332,\n",
       "       -0.02477886, -0.02486033, -0.02541119, -0.0262017 , -0.02701168,\n",
       "       -0.02977205, -0.03070189, -0.03147534, -0.03157993, -0.03197045,\n",
       "       -0.0321085 , -0.0323639 , -0.03330711, -0.03393148, -0.03525117,\n",
       "       -0.03574673, -0.0373167 , -0.03867408, -0.03994782, -0.03999628,\n",
       "       -0.04066865, -0.04073499, -0.04219464, -0.04417203, -0.04449631,\n",
       "       -0.04505354, -0.04516007, -0.04573315, -0.04593169, -0.0465389 ,\n",
       "       -0.04827219, -0.04848301, -0.04907609, -0.04955242, -0.04990002,\n",
       "       -0.05230751, -0.05306009, -0.0551669 , -0.05596868, -0.05661445,\n",
       "       -0.06011086, -0.06086016, -0.06262501, -0.06291767, -0.06421757,\n",
       "       -0.06454256, -0.06868459, -0.06901125, -0.06918173, -0.06963173,\n",
       "       -0.07044123, -0.07051907, -0.07171626, -0.0754482 , -0.07774275,\n",
       "       -0.0779371 , -0.07795795, -0.07830751, -0.08130761, -0.08146034,\n",
       "       -0.08186311, -0.0839284 , -0.08540512, -0.0854339 , -0.09151674,\n",
       "       -0.09328757, -0.09380738, -0.0974127 , -0.09830227, -0.10146174,\n",
       "       -0.10172483, -0.10385293, -0.10518279, -0.10582118, -0.10750956,\n",
       "       -0.10831491, -0.11594084, -0.11922968, -0.11946168, -0.12011443,\n",
       "       -0.12269045, -0.12275638, -0.12321486, -0.12362739, -0.1283853 ,\n",
       "       -0.12899882, -0.12936994, -0.14272206, -0.14925798, -0.15072537,\n",
       "       -0.15533372, -0.15773951, -0.16412409, -0.164403  , -0.16587425,\n",
       "       -0.16894401, -0.18048144, -0.18638013, -0.18703515, -0.18914109,\n",
       "       -0.18965363, -0.19345355, -0.19419973, -0.19452518, -0.19499019,\n",
       "       -0.19604603, -0.19794233, -0.19978113, -0.20306736, -0.20672003,\n",
       "       -0.20684703, -0.20951658, -0.22313731, -0.22355165, -0.22434441,\n",
       "       -0.22940837, -0.22969861, -0.23514008, -0.23833472, -0.24026335,\n",
       "       -0.25736248, -0.25933841, -0.26121255, -0.26969508, -0.27032715,\n",
       "       -0.27922214, -0.2798108 , -0.28737283, -0.28775068, -0.28907152,\n",
       "       -0.29009233, -0.29038278, -0.2971225 , -0.30829114, -0.31278971,\n",
       "       -0.31363393, -0.31591166, -0.31821464, -0.31875278, -0.31974873,\n",
       "       -0.32026302, -0.33219124, -0.33309385, -0.33784348, -0.3393628 ,\n",
       "       -0.34111151, -0.3418439 , -0.3429193 , -0.34425096, -0.34531087,\n",
       "       -0.35584795, -0.35837459, -0.35842858, -0.36449098, -0.3722101 ,\n",
       "       -0.37307688, -0.37549409, -0.37732552, -0.38234538, -0.38762861,\n",
       "       -0.38843753, -0.39456722, -0.39703736, -0.40059572, -0.40206957,\n",
       "       -0.40391374, -0.40685352, -0.40835418, -0.40860002, -0.40909262,\n",
       "       -0.41027274, -0.41119915, -0.41805386, -0.42354631, -0.42790556,\n",
       "       -0.42954843, -0.43426961, -0.43678093])"
      ]
     },
     "execution_count": 99,
     "metadata": {},
     "output_type": "execute_result"
    }
   ],
   "source": [
    "### GRADED PART (DO NOT EDIT) ###\n",
    "part_4 = list(eigen_prtf2.as_matrix().squeeze())\n",
    "try:\n",
    "    part4 = \" \".join(map(repr, part_4))\n",
    "except TypeError:\n",
    "    part4 = repr(part_4)\n",
    "submissions[all_parts[3]]=part4\n",
    "grading.submit(COURSERA_EMAIL, COURSERA_TOKEN, assignment_key,all_parts[:4],all_parts,submissions)\n",
    "eigen_prtf2.as_matrix().squeeze()\n",
    "### GRADED PART (DO NOT EDIT) ###"
   ]
  },
  {
   "cell_type": "markdown",
   "metadata": {},
   "source": [
    "#### Part 4 (Compute performance of several eigen portfolios)\n",
    "\n",
    "**Instructions:**\n",
    "- Implement sharpe_ratio() function. The function takes ts_returns argument of type pd.Series and returns a tuple of annualized return, annualized vol, and annualized sharpe ratio, where sharpe ratio is defined as annualized return divided by annualized volatility \n",
    "- find portfolio (an index into sharpe_metric) that has the highest sharpe ratio"
   ]
  },
  {
   "cell_type": "code",
   "execution_count": 100,
   "metadata": {
    "collapsed": true
   },
   "outputs": [],
   "source": [
    "def sharpe_ratio(ts_returns, periods_per_year=252):\n",
    "    \"\"\"\n",
    "    sharpe_ratio - Calculates annualized return, annualized vol, and annualized sharpe ratio, \n",
    "                    where sharpe ratio is defined as annualized return divided by annualized volatility \n",
    "                    \n",
    "    Arguments:\n",
    "    ts_returns - pd.Series of returns of a single eigen portfolio\n",
    "    \n",
    "    Return:\n",
    "    a tuple of three doubles: annualized return, volatility, and sharpe ratio\n",
    "    \"\"\"\n",
    "    \n",
    "    annualized_return = 0.\n",
    "    annualized_vol = 0.\n",
    "    annualized_sharpe = 0.\n",
    "    \n",
    "    ### START CODE HERE ### (≈ 4-5 lines of code)\n",
    "    n_years = ts_returns.shape[0] / periods_per_year\n",
    "    annualized_return = np.power(np.prod(1+ts_returns),(1/n_years))-1\n",
    "    \n",
    "    annualized_vol = ts_returns.std() * np.sqrt(periods_per_year)\n",
    "\n",
    "    annualized_sharpe = annualized_return / annualized_vol\n",
    "    ### END CODE HERE ###\n",
    "    \n",
    "    return annualized_return, annualized_vol, annualized_sharpe"
   ]
  },
  {
   "cell_type": "code",
   "execution_count": null,
   "metadata": {},
   "outputs": [],
   "source": []
  },
  {
   "cell_type": "markdown",
   "metadata": {},
   "source": [
    "We compute the annualized return, volatility, and Sharpe ratio of the first two eigen portfolios."
   ]
  },
  {
   "cell_type": "code",
   "execution_count": 101,
   "metadata": {},
   "outputs": [
    {
     "name": "stdout",
     "output_type": "stream",
     "text": [
      "First eigen-portfolio:\n",
      "Return = 0.18%\n",
      "Volatility = 0.14%\n",
      "Sharpe = 1.24\n"
     ]
    },
    {
     "data": {
      "image/png": "[encoded data removed]",
      "text/plain": [
       "<matplotlib.figure.Figure at 0x7f73f323f908>"
      ]
     },
     "metadata": {},
     "output_type": "display_data"
    }
   ],
   "source": [
    "if df_raw_test is not None:\n",
    "    eigen_prtf1_returns = np.dot(df_raw_test.loc[:, eigen_prtf1.index], eigen_prtf1/100)\n",
    "    eigen_prtf1_returns = pd.Series(eigen_prtf1_returns.squeeze(), index=df_test.index)\n",
    "    er, vol, sharpe = sharpe_ratio(eigen_prtf1_returns)\n",
    "    print('First eigen-portfolio:\\nReturn = %.2f%%\\nVolatility = %.2f%%\\nSharpe = %.2f' % (er*100, vol*100, sharpe))\n",
    "    year_frac = (eigen_prtf1_returns.index[-1] - eigen_prtf1_returns.index[0]).days / 252\n",
    "\n",
    "    df_plot = pd.DataFrame({'PC1': eigen_prtf1_returns, 'SPX': df_raw_test.loc[:, 'SPX']}, index=df_test.index)\n",
    "    np.cumprod(df_plot + 1).plot(title='Returns of the market-cap weighted index vs. First eigen-portfolio', \n",
    "                             figsize=(12,6), linewidth=3)"
   ]
  },
  {
   "cell_type": "code",
   "execution_count": 102,
   "metadata": {},
   "outputs": [
    {
     "name": "stdout",
     "output_type": "stream",
     "text": [
      "Second eigen-portfolio:\n",
      "Return = 1.05%\n",
      "Volatility = 2.93%\n",
      "Sharpe = 0.36\n"
     ]
    }
   ],
   "source": [
    "if df_raw_test is not None:\n",
    "    eigen_prtf2_returns = np.dot(df_raw_test.loc[:, eigen_prtf2.index], eigen_prtf2 / 100)\n",
    "    eigen_prtf2_returns = pd.Series(eigen_prtf2_returns.squeeze(), index=df_test.index)\n",
    "    er, vol, sharpe = sharpe_ratio(eigen_prtf2_returns)\n",
    "    print('Second eigen-portfolio:\\nReturn = %.2f%%\\nVolatility = %.2f%%\\nSharpe = %.2f' % (er*100, vol*100, sharpe))"
   ]
  },
  {
   "cell_type": "code",
   "execution_count": 103,
   "metadata": {},
   "outputs": [
    {
     "data": {
      "text/plain": [
       "(418, 418)"
      ]
     },
     "execution_count": 103,
     "metadata": {},
     "output_type": "execute_result"
    }
   ],
   "source": [
    "pcs.shape"
   ]
  },
  {
   "cell_type": "markdown",
   "metadata": {},
   "source": [
    "We repeat the exercise of computing Sharpe ratio for the first N portfolios and select portfolio with the highest postive Sharpe ratio."
   ]
  },
  {
   "cell_type": "code",
   "execution_count": 104,
   "metadata": {},
   "outputs": [
    {
     "name": "stderr",
     "output_type": "stream",
     "text": [
      "/opt/conda/lib/python3.6/site-packages/ipykernel_launcher.py:19: RuntimeWarning: invalid value encountered in power\n"
     ]
    },
    {
     "name": "stdout",
     "output_type": "stream",
     "text": [
      "Eigen portfolio #5 with the highest Sharpe. Return 66.32%, vol = 24.36%, Sharpe = 2.72\n"
     ]
    },
    {
     "data": {
      "image/png": "[encoded data removed]",
      "text/plain": [
       "<matplotlib.figure.Figure at 0x7f73f2c25c50>"
      ]
     },
     "metadata": {},
     "output_type": "display_data"
    }
   ],
   "source": [
    "n_portfolios = 50\n",
    "annualized_ret = np.array([0.] * n_portfolios)\n",
    "sharpe_metric = np.array([0.] * n_portfolios)\n",
    "annualized_vol = np.array([0.] * n_portfolios)\n",
    "idx_highest_sharpe = 0 # index into sharpe_metric which identifies a portfolio with rhe highest Sharpe ratio\n",
    "    \n",
    "if pca is not None:\n",
    "    for ix in range(n_portfolios):\n",
    "        \n",
    "        ### START CODE HERE ### (≈ 4-5 lines of code)\n",
    "        pc_w = pcs[ix,:] / np.sum(pcs[ix,:])\n",
    "        \n",
    "        eigen_prtf = pd.DataFrame(data ={'weights': pc_w}, index = stock_tickers)\n",
    "        \n",
    "        eigen_returns = np.dot(df_raw_test.loc[:, eigen_prtf.index], eigen_prtf )\n",
    "        eigen_returns = pd.Series(eigen_returns.squeeze(), index=df_test.index)\n",
    "        \n",
    "        annualized_ret[ix], annualized_vol[ix], sharpe_metric[ix] = sharpe_ratio( eigen_returns )\n",
    "        \n",
    "    \n",
    "        ### END CODE HERE ###\n",
    "    \n",
    "    \n",
    "    # find portfolio with the highest Sharpe ratio\n",
    "    ### START CODE HERE ### (≈ 2-3 lines of code)\n",
    "    sharpe = sharpe_metric[~np.isnan(sharpe_metric)]\n",
    "    max_sharpe = np.amax(sharpe)\n",
    "    index_max_sharpe = np.where(sharpe_metric == max_sharpe)\n",
    "    idx_highest_sharpe = index_max_sharpe[0]\n",
    "    \n",
    "    \n",
    "    ### END CODE HERE ###\n",
    "    \n",
    "    print('Eigen portfolio #%d with the highest Sharpe. Return %.2f%%, vol = %.2f%%, Sharpe = %.2f' % \n",
    "          (idx_highest_sharpe,\n",
    "           annualized_ret[idx_highest_sharpe]*100, \n",
    "           annualized_vol[idx_highest_sharpe]*100, \n",
    "           sharpe_metric[idx_highest_sharpe]))\n",
    "\n",
    "    fig, ax = plt.subplots()\n",
    "    fig.set_size_inches(12, 4)\n",
    "    ax.plot(sharpe_metric, linewidth=3)\n",
    "    ax.set_title('Sharpe ratio of eigen-portfolios')\n",
    "    ax.set_ylabel('Sharpe ratio')\n",
    "    ax.set_xlabel('Portfolios')"
   ]
  },
  {
   "cell_type": "code",
   "execution_count": 105,
   "metadata": {},
   "outputs": [
    {
     "data": {
      "text/html": [
       "<div>\n",
       "<table border=\"1\" class=\"dataframe\">\n",
       "  <thead>\n",
       "    <tr style=\"text-align: right;\">\n",
       "      <th></th>\n",
       "      <th>Return</th>\n",
       "      <th>Sharpe</th>\n",
       "      <th>Vol</th>\n",
       "    </tr>\n",
       "  </thead>\n",
       "  <tbody>\n",
       "    <tr>\n",
       "      <th>5</th>\n",
       "      <td>0.663208</td>\n",
       "      <td>2.722700</td>\n",
       "      <td>0.243585</td>\n",
       "    </tr>\n",
       "    <tr>\n",
       "      <th>9</th>\n",
       "      <td>0.678727</td>\n",
       "      <td>1.709350</td>\n",
       "      <td>0.397067</td>\n",
       "    </tr>\n",
       "    <tr>\n",
       "      <th>15</th>\n",
       "      <td>0.898494</td>\n",
       "      <td>1.468457</td>\n",
       "      <td>0.611863</td>\n",
       "    </tr>\n",
       "    <tr>\n",
       "      <th>3</th>\n",
       "      <td>0.152469</td>\n",
       "      <td>1.435876</td>\n",
       "      <td>0.106186</td>\n",
       "    </tr>\n",
       "    <tr>\n",
       "      <th>0</th>\n",
       "      <td>0.183326</td>\n",
       "      <td>1.276477</td>\n",
       "      <td>0.143619</td>\n",
       "    </tr>\n",
       "    <tr>\n",
       "      <th>20</th>\n",
       "      <td>0.392521</td>\n",
       "      <td>1.272560</td>\n",
       "      <td>0.308450</td>\n",
       "    </tr>\n",
       "    <tr>\n",
       "      <th>13</th>\n",
       "      <td>0.389422</td>\n",
       "      <td>1.181915</td>\n",
       "      <td>0.329484</td>\n",
       "    </tr>\n",
       "    <tr>\n",
       "      <th>32</th>\n",
       "      <td>0.409229</td>\n",
       "      <td>0.705775</td>\n",
       "      <td>0.579829</td>\n",
       "    </tr>\n",
       "    <tr>\n",
       "      <th>6</th>\n",
       "      <td>0.176557</td>\n",
       "      <td>0.517282</td>\n",
       "      <td>0.341316</td>\n",
       "    </tr>\n",
       "    <tr>\n",
       "      <th>31</th>\n",
       "      <td>0.287097</td>\n",
       "      <td>0.468930</td>\n",
       "      <td>0.612238</td>\n",
       "    </tr>\n",
       "  </tbody>\n",
       "</table>\n",
       "</div>"
      ],
      "text/plain": [
       "      Return    Sharpe       Vol\n",
       "5   0.663208  2.722700  0.243585\n",
       "9   0.678727  1.709350  0.397067\n",
       "15  0.898494  1.468457  0.611863\n",
       "3   0.152469  1.435876  0.106186\n",
       "0   0.183326  1.276477  0.143619\n",
       "20  0.392521  1.272560  0.308450\n",
       "13  0.389422  1.181915  0.329484\n",
       "32  0.409229  0.705775  0.579829\n",
       "6   0.176557  0.517282  0.341316\n",
       "31  0.287097  0.468930  0.612238"
      ]
     },
     "execution_count": 105,
     "metadata": {},
     "output_type": "execute_result"
    }
   ],
   "source": [
    "results = pd.DataFrame(data={'Return': annualized_ret, 'Vol': annualized_vol, 'Sharpe': sharpe_metric})\n",
    "results.sort_values(by=['Sharpe'], ascending=False, inplace=True)\n",
    "results.head(10)"
   ]
  },
  {
   "cell_type": "code",
   "execution_count": 106,
   "metadata": {},
   "outputs": [
    {
     "name": "stdout",
     "output_type": "stream",
     "text": [
      "Best eigen-portfolio:\n",
      "Return = 66.32%\n",
      "Volatility = 24.36%\n",
      "Sharpe = 2.72\n"
     ]
    },
    {
     "data": {
      "text/plain": [
       "<matplotlib.axes._subplots.AxesSubplot at 0x7f73f2c25518>"
      ]
     },
     "execution_count": 106,
     "metadata": {},
     "output_type": "execute_result"
    },
    {
     "data": {
      "image/png": "[encoded data removed]",
      "text/plain": [
       "<matplotlib.figure.Figure at 0x7f73f2c46c88>"
      ]
     },
     "metadata": {},
     "output_type": "display_data"
    }
   ],
   "source": [
    "pc_w = normalized_pcs[idx_highest_sharpe[0]]\n",
    "eigen_prtf_best = pd.DataFrame(data ={'weights': pc_w.squeeze()}, index = stock_tickers)\n",
    "\n",
    "eigen_prtf1_returns = np.dot(df_raw_test.loc[:, eigen_prtf_best.index], eigen_prtf_best)\n",
    "eigen_prtf1_returns = pd.Series(eigen_prtf1_returns.squeeze(), index=df_test.index)\n",
    "er, vol, sharpe = sharpe_ratio(eigen_prtf1_returns)\n",
    "print('Best eigen-portfolio:\\nReturn = %.2f%%\\nVolatility = %.2f%%\\nSharpe = %.2f' % (er*100, vol*100, sharpe))\n",
    "year_frac = (eigen_prtf1_returns.index[-1] - eigen_prtf1_returns.index[0]).days / 252\n",
    "\n",
    "df_plot = pd.DataFrame({'PC_best': eigen_prtf1_returns, 'SPX': df_raw_test.loc[:, 'SPX']}, index=df_test.index)\n",
    "np.cumprod(df_plot + 1).plot(title='Returns of the market-cap weighted index vs. Best eigen-portfolio', \n",
    "                         figsize=(12,6), linewidth=3)"
   ]
  },
  {
   "cell_type": "code",
   "execution_count": 107,
   "metadata": {},
   "outputs": [
    {
     "name": "stdout",
     "output_type": "stream",
     "text": [
      "Sum of weights of best eigen-portfolio: 1.00\n"
     ]
    },
    {
     "data": {
      "text/plain": [
       "<matplotlib.axes._subplots.AxesSubplot at 0x7f73f31d8048>"
      ]
     },
     "execution_count": 107,
     "metadata": {},
     "output_type": "execute_result"
    },
    {
     "data": {
      "image/png": "[encoded data removed]",
      "text/plain": [
       "<matplotlib.figure.Figure at 0x7f73f29fcf98>"
      ]
     },
     "metadata": {},
     "output_type": "display_data"
    }
   ],
   "source": [
    "eigen_prtf_best.sort_values(by=['weights'], ascending=False, inplace=True)\n",
    "print('Sum of weights of best eigen-portfolio: %.2f' % np.sum(eigen_prtf2))\n",
    "eigen_prtf_best.plot(title='Best eigen-portfolio weights',\n",
    "                 figsize=(12,6), \n",
    "                 xticks=range(0, len(stock_tickers),10), \n",
    "                 rot=45, \n",
    "                 linewidth=3)"
   ]
  },
  {
   "cell_type": "code",
   "execution_count": 108,
   "metadata": {},
   "outputs": [
    {
     "name": "stdout",
     "output_type": "stream",
     "text": [
      "Submission successful, please check on the coursera grader page for the status\n"
     ]
    },
    {
     "data": {
      "text/plain": [
       "array([ 2.72270012,  1.7093501 ,  1.46845734,  1.43587633,  1.27647669,\n",
       "        1.27256021,  1.18191454,  0.70577524,  0.51728191,  0.46892967,\n",
       "        0.44698029,  0.41894509,  0.38971155,  0.3826322 ,  0.36958503,\n",
       "        0.36447993,  0.2198024 ,  0.19448893,  0.12708188,  0.06706564,\n",
       "        0.06564784,  0.05619448,  0.01865364, -0.09716198, -0.23342393,\n",
       "       -0.29148308, -0.31353735, -0.33200405, -0.37184098, -0.42230875,\n",
       "       -0.42285699, -0.42491357, -0.43638433, -0.45377456, -0.46638791,\n",
       "       -0.48690494, -0.50985517, -0.53858046, -0.55799916, -0.60721003,\n",
       "       -0.64866725, -0.66734396, -0.80419512, -0.90130484, -1.17671754,\n",
       "               nan,         nan,         nan,         nan,         nan])"
      ]
     },
     "execution_count": 108,
     "metadata": {},
     "output_type": "execute_result"
    }
   ],
   "source": [
    "### GRADED PART (DO NOT EDIT) ###\n",
    "part_5 = list(results.iloc[:, 1].values.squeeze())\n",
    "try:\n",
    "    part5 = \" \".join(map(repr, part_5))\n",
    "except TypeError:\n",
    "    part5 = repr(part_5)\n",
    "submissions[all_parts[4]]=part5\n",
    "grading.submit(COURSERA_EMAIL, COURSERA_TOKEN, assignment_key,all_parts[:5],all_parts,submissions)\n",
    "results.iloc[:, 1].values.squeeze()\n",
    "### GRADED PART (DO NOT EDIT) ###"
   ]
  },
  {
   "cell_type": "code",
   "execution_count": 109,
   "metadata": {},
   "outputs": [
    {
     "name": "stdout",
     "output_type": "stream",
     "text": [
      "Submission successful, please check on the coursera grader page for the status\n"
     ]
    },
    {
     "data": {
      "text/plain": [
       "array([5])"
      ]
     },
     "execution_count": 109,
     "metadata": {},
     "output_type": "execute_result"
    }
   ],
   "source": [
    "### GRADED PART (DO NOT EDIT) ###\n",
    "part6 = str(idx_highest_sharpe)\n",
    "submissions[all_parts[5]]=part6\n",
    "grading.submit(COURSERA_EMAIL, COURSERA_TOKEN, assignment_key,all_parts[:6],all_parts,submissions)\n",
    "idx_highest_sharpe\n",
    "### GRADED PART (DO NOT EDIT) ###"
   ]
  },
  {
   "cell_type": "code",
   "execution_count": 110,
   "metadata": {},
   "outputs": [
    {
     "name": "stdout",
     "output_type": "stream",
     "text": [
      "The End\n"
     ]
    }
   ],
   "source": [
    "print('The End')"
   ]
  },
  {
   "cell_type": "code",
   "execution_count": null,
   "metadata": {
    "collapsed": true
   },
   "outputs": [],
   "source": []
  }
 ],
 "metadata": {
  "anaconda-cloud": {},
  "coursera": {
   "course_slug": "machine-learning-in-finance"
  },
  "kernelspec": {
   "display_name": "Python 3",
   "language": "python",
   "name": "python3"
  },
  "language_info": {
   "codemirror_mode": {
    "name": "ipython",
    "version": 3
   },
   "file_extension": ".py",
   "mimetype": "text/x-python",
   "name": "python",
   "nbconvert_exporter": "python",
   "pygments_lexer": "ipython3",
   "version": "3.6.2"
  }
 },
 "nbformat": 4,
 "nbformat_minor": 1
}
